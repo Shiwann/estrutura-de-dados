{
  "nbformat": 4,
  "nbformat_minor": 0,
  "metadata": {
    "colab": {
      "name": "estrutura de dados exercicio.ipynb",
      "provenance": [],
      "collapsed_sections": [],
      "include_colab_link": true
    },
    "kernelspec": {
      "name": "python3",
      "display_name": "Python 3"
    },
    "language_info": {
      "name": "python"
    }
  },
  "cells": [
    {
      "cell_type": "markdown",
      "metadata": {
        "id": "view-in-github",
        "colab_type": "text"
      },
      "source": [
        "<a href=\"https://colab.research.google.com/github/Shiwann/estrutura-de-dados/blob/main/estrutura_de_dados_exercicio.ipynb\" target=\"_parent\"><img src=\"https://colab.research.google.com/assets/colab-badge.svg\" alt=\"Open In Colab\"/></a>"
      ]
    },
    {
      "cell_type": "code",
      "metadata": {
        "id": "GpG9NKqgTUXr"
      },
      "source": [
        ""
      ],
      "execution_count": null,
      "outputs": []
    },
    {
      "cell_type": "markdown",
      "metadata": {
        "id": "Cm5Tshk1TW7p"
      },
      "source": [
        " 1. Crie uma lista chamada filmes com o nome dos 10 primeiros lmes mais bem avaliados no\n",
        "site no IMDB. Imprima o resultado.\n",
        "Simule a movimentação do ranking. Utilize os métodos insert e pop para trocar a posição do\n",
        "primeiro e do segundo lme da lista. Imprima o resultado."
      ]
    },
    {
      "cell_type": "code",
      "metadata": {
        "colab": {
          "base_uri": "https://localhost:8080/"
        },
        "id": "-n0YhMtjTkJh",
        "outputId": "d2106444-adfe-4feb-bc42-8b794c157973"
      },
      "source": [
        "lista_filmes =['1.Um sonho de liberdade','2.O Podroso Chefão','3.O poderoso Chefão II','4.Batman:O Cavaleiro das Trevas ','5.12 Homens e uma Sentença','6.A Lista de Schindler','7.O Senhor dos Anéis:O Retorno do Rei','8. Pulp Fiction:Tempo de Violência','9.Três Homens em Conflito','10.O Senhor dos Anéis: A Sociedade do Anel']\n",
        "print(lista_filmes)\n",
        "lista_filmes.insert(0,'1.O poderoso Chefão')\n",
        "lista_filmes.pop(1)\n",
        "lista_filmes.insert(1,'2.Um sonho de Liberdade')\n",
        "lista_filmes.pop(2)\n",
        "print(lista_filmes)"
      ],
      "execution_count": null,
      "outputs": [
        {
          "output_type": "stream",
          "text": [
            "['1.Um sonho de liberdade', '2.O Podroso Chefão', '3.O poderoso Chefão II', '4.Batman:O Cavaleiro das Trevas ', '5.12 Homens e uma Sentença', '6.A Lista de Schindler', '7.O Senhor dos Anéis:O Retorno do Rei', '8. Pulp Fiction:Tempo de Violência', '9.Três Homens em Conflito', '10.O Senhor dos Anéis: A Sociedade do Anel']\n",
            "['1.O poderoso Chefão', '2.Um sonho de Liberdade', '3.O poderoso Chefão II', '4.Batman:O Cavaleiro das Trevas ', '5.12 Homens e uma Sentença', '6.A Lista de Schindler', '7.O Senhor dos Anéis:O Retorno do Rei', '8. Pulp Fiction:Tempo de Violência', '9.Três Homens em Conflito', '10.O Senhor dos Anéis: A Sociedade do Anel']\n"
          ],
          "name": "stdout"
        }
      ]
    },
    {
      "cell_type": "markdown",
      "metadata": {
        "id": "S1K862fjsuIj"
      },
      "source": [
        "2.Aconteceu um erro no seu ranking. Simule a duplicação dos três últimos filmes da lista imprima o resultado.\n",
        "ultiliza a conversão set e list para remover valores duplicados e imprima o resultado.\n"
      ]
    },
    {
      "cell_type": "code",
      "metadata": {
        "colab": {
          "base_uri": "https://localhost:8080/"
        },
        "id": "phPYwEs1tG52",
        "outputId": "e0e8e507-47cb-4b43-a842-e71ac24507ec"
      },
      "source": [
        "lista_filmes_duplicadas =['1.Um sonho de liberdade','2.O Podroso Chefão','3.O poderoso Chefão II','4.Batman:O Cavaleiro das Trevas ','5.12 Homens e uma Sentença','6.A Lista de Schindler','7.O Senhor dos Anéis:O Retorno do Rei','8. Pulp Fiction:Tempo de Violência','9.Três Homens em Conflito','10.O Senhor dos Anéis: A Sociedade do Anel','8. Pulp Fiction:Tempo de Violência','9.Três Homens em Conflito','10.O Senhor dos Anéis: A Sociedade do Anel']\n",
        "print(lista_filmes_duplicadas)\n",
        "print(len(lista_filmes_duplicadas))\n",
        "lista_filmes_duplicadas_set= (list(set(lista_filmes_duplicadas)))\n",
        "print(lista_filmes_duplicadas_set)\n",
        "print(len(lista_filmes_duplicadas_set))\n",
        "\n",
        "\n"
      ],
      "execution_count": null,
      "outputs": [
        {
          "output_type": "stream",
          "text": [
            "['1.Um sonho de liberdade', '2.O Podroso Chefão', '3.O poderoso Chefão II', '4.Batman:O Cavaleiro das Trevas ', '5.12 Homens e uma Sentença', '6.A Lista de Schindler', '7.O Senhor dos Anéis:O Retorno do Rei', '8. Pulp Fiction:Tempo de Violência', '9.Três Homens em Conflito', '10.O Senhor dos Anéis: A Sociedade do Anel', '8. Pulp Fiction:Tempo de Violência', '9.Três Homens em Conflito', '10.O Senhor dos Anéis: A Sociedade do Anel']\n",
            "13\n",
            "['4.Batman:O Cavaleiro das Trevas ', '1.Um sonho de liberdade', '2.O Podroso Chefão', '8. Pulp Fiction:Tempo de Violência', '3.O poderoso Chefão II', '9.Três Homens em Conflito', '10.O Senhor dos Anéis: A Sociedade do Anel', '7.O Senhor dos Anéis:O Retorno do Rei', '5.12 Homens e uma Sentença', '6.A Lista de Schindler']\n",
            "10\n"
          ],
          "name": "stdout"
        }
      ]
    },
    {
      "cell_type": "markdown",
      "metadata": {
        "id": "P3KypA8vwmEw"
      },
      "source": [
        "3.Repita os exercícios da parte 1 (listas). Os elementos da lista filmes devem ser dicionários no\n",
        "seguinte formato: {'nome': <nome-do-filme>, 'ano': <ano do filme>}, 'sinopse':\n",
        "<sinopse do filme>} \n"
      ]
    },
    {
      "cell_type": "code",
      "metadata": {
        "id": "bTeSsI9FOO4h"
      },
      "source": [
        ""
      ],
      "execution_count": null,
      "outputs": []
    },
    {
      "cell_type": "code",
      "metadata": {
        "colab": {
          "base_uri": "https://localhost:8080/"
        },
        "id": "nTu99axPYV39",
        "outputId": "6340d583-ec21-4156-e5b5-42f0f00a1198"
      },
      "source": [
        "lista_filmes=[]\n",
        "um_sonho_de_liberdade= {\n",
        "    'nome': 'Um sonho de liberdade',\n",
        "     'ano': 1994 ,\n",
        "    'sinopse':'Dois homens presos se reúnem ao longo de vários anos, encontrando consolo e eventual redenção através de atos de decência comum.'}\n",
        "o_poderoso_chefao={\n",
        "    'nome': 'O poderoso chefão', \n",
        "     'ano': 1972 ,  \n",
        "     'sinopse':'O patriarca idoso de uma dinastia do crime organizado transfere o controle de seu império clandestino para seu filho relutante.'}\n",
        "o_poderoso_chefao_ii={\n",
        "    'nome':\"O poderoso CHefão II\",\n",
        "    'ano':1974,\n",
        "    'sinopse': 'Em 1950, Michael Corleone, agora à frente da família, tenta expandir o negócio do crime a Las Vegas, Los Angeles e Cuba. Paralelamente, é revelada a história de Vito Corleone, e de como saiu da Sicília e chegou a Nova Iorque.'\n",
        "}\n",
        "batman_o_cavaleiro_das_trevas={\n",
        "    'nome': 'Batman: O cavaleiro das Trevas',\n",
        "    'ano':2008,\n",
        "    'sinopse': 'Quando a ameaça conhecida como O Coringa surge de seu passado, causa estragos e caos nas pessoas de Gotham. O Cavaleiro das Trevas deve aceitar um dos maiores testes para combater a injustiça.'\n",
        "}\n",
        "doze_homens_e_uma_setenca={\n",
        "  'nome': '12 Homens e uma Sentença',\n",
        "  'ano': 1957,\n",
        "    'Sinopse': 'Um jurado que se aposenta tenta evitar um erro judicial forçando seus colegas a reconsiderarem as evidências.'\n",
        "    \n",
        "}\n",
        "a_lista_de_schindler={\n",
        "    'nome':'A Lista de Schindler',\n",
        "    'ano':1993,\n",
        "    'sinopse':'Depois de testemunhar a perseguição dos judaicos na Polônia ocupada pelos alemães durante a Segunda Guerra Mundial, o industrial Oskar Schindler se começa a preocupar com sua força de trabalho judaica.'\n",
        "}\n",
        "o_senhor_dos_aneis_o_retorno_do_rei={\n",
        "    'nome':'O Senhor dos Anéis: O Retorno do Rei',\n",
        "    'ano':2003,\n",
        "    'sinopse':'Gandalf e Aragorn lideram o Mundo dos Homens contra o exército de Sauron para desviar o olhar de Frodo e Sam quando eles se aproximam á Montanha da Perdição com o Um Anel.'}\n",
        "\n",
        "pulp_fiction_tempo_de_violencia= {\n",
        "    'nome':'Pulp Fiction: Tempo de Violência',\n",
        "    'ano':1994,\n",
        "    'sinopse':'As vidas de dois assassinos da máfia, um boxeador, um gângster e sua esposa, e um par de bandidos se entrelaçam em quatro histórias de violência e redenção.'\n",
        "}\n",
        "tres_homens_em_conflito={\n",
        "  'nome':'Três Homens em Conflito',\n",
        "  'ano': 1966,\n",
        "  'sinopse':'Um impostor se junta com dois homens para encontrar fortuna num remoto cemitério.'  \n",
        "}\n",
        "o_senhor_dos_aneis_a_sociedade_do_anel={\n",
        "    'nome':'O Senhor dos Anéis: A Sociedade do Anel',\n",
        "    'ano':2001,\n",
        "    'sinopse':'Um manso hobbit do Condado e oito companheiros partem em uma jornada para destruir o poderoso Um Anel e salvar a Terra-média das Trevas.'\n",
        "\n",
        "}\n",
        "lista_filmes.append(o_poderoso_chefao)\n",
        "lista_filmes.append(um_sonho_de_liberdade)\n",
        "lista_filmes.append(o_poderoso_chefao_ii)\n",
        "lista_filmes.append(batman_o_cavaleiro_das_trevas)\n",
        "lista_filmes.append(doze_homens_e_uma_setenca)\n",
        "lista_filmes.append(a_lista_de_schindler)\n",
        "lista_filmes.append(o_senhor_dos_aneis_o_retorno_do_rei)\n",
        "lista_filmes.append(pulp_fiction_tempo_de_violencia)\n",
        "lista_filmes.append(tres_homens_em_conflito)\n",
        "lista_filmes.append(o_senhor_dos_aneis_a_sociedade_do_anel)\n",
        "\n",
        "\n",
        "\n",
        "print(lista_filmes)"
      ],
      "execution_count": null,
      "outputs": [
        {
          "output_type": "stream",
          "text": [
            "[{'nome': 'O poderoso chefão', 'ano': 1972, 'sinopse': 'O patriarca idoso de uma dinastia do crime organizado transfere o controle de seu império clandestino para seu filho relutante.'}, {'nome': 'Um sonho de liberdade', 'ano': 1994, 'sinopse': 'Dois homens presos se reúnem ao longo de vários anos, encontrando consolo e eventual redenção através de atos de decência comum.'}, {'nome': 'O poderoso CHefão II', 'ano': 1974, 'sinopse': 'Em 1950, Michael Corleone, agora à frente da família, tenta expandir o negócio do crime a Las Vegas, Los Angeles e Cuba. Paralelamente, é revelada a história de Vito Corleone, e de como saiu da Sicília e chegou a Nova Iorque.'}, {'nome': 'Batman: O cavaleiro das Trevas', 'ano': 2008, 'sinopse': 'Quando a ameaça conhecida como O Coringa surge de seu passado, causa estragos e caos nas pessoas de Gotham. O Cavaleiro das Trevas deve aceitar um dos maiores testes para combater a injustiça.'}, {'nome': '12 Homens e uma Sentença', 'ano': 1957, 'Sinopse': 'Um jurado que se aposenta tenta evitar um erro judicial forçando seus colegas a reconsiderarem as evidências.'}, {'nome': 'A Lista de Schindler', 'ano': 1993, 'sinopse': 'Depois de testemunhar a perseguição dos judaicos na Polônia ocupada pelos alemães durante a Segunda Guerra Mundial, o industrial Oskar Schindler se começa a preocupar com sua força de trabalho judaica.'}, {'nome': 'O Senhor dos Anéis: O Retorno do Rei', 'ano': 2003, 'sinopse': 'Gandalf e Aragorn lideram o Mundo dos Homens contra o exército de Sauron para desviar o olhar de Frodo e Sam quando eles se aproximam á Montanha da Perdição com o Um Anel.'}, {'nome': 'Pulp Fiction: Tempo de Violência', 'ano': 1994, 'sinopse': 'As vidas de dois assassinos da máfia, um boxeador, um gângster e sua esposa, e um par de bandidos se entrelaçam em quatro histórias de violência e redenção.'}, {'nome': 'Três Homens em Conflito', 'ano': 1966, 'sinopse': 'Um impostor se junta com dois homens para encontrar fortuna num remoto cemitério.'}, {'nome': 'O Senhor dos Anéis: A Sociedade do Anel', 'ano': 2001, 'sinopse': 'Um manso hobbit do Condado e oito companheiros partem em uma jornada para destruir o poderoso Um Anel e salvar a Terra-média das Trevas.'}]\n"
          ],
          "name": "stdout"
        }
      ]
    },
    {
      "cell_type": "code",
      "metadata": {
        "id": "b_N2UJIr-j5E"
      },
      "source": [
        ""
      ],
      "execution_count": null,
      "outputs": []
    }
  ]
}